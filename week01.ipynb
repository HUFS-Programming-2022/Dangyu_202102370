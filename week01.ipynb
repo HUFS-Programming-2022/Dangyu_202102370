{
 "cells": [
  {
   "cell_type": "code",
   "execution_count": null,
   "id": "725a5a3d-fc02-4dd4-8e8c-7f33ccac7288",
   "metadata": {},
   "outputs": [],
   "source": [
    "# 주석 다는 방법(코드가 아닌 부분)\n",
    "# run : shift+enter\n",
    "# markdown : m"
   ]
  },
  {
   "cell_type": "markdown",
   "id": "3b98f9c4-4bf7-401c-996d-bf927ccbfcce",
   "metadata": {},
   "source": [
    "## 프로그래밍이란?\n",
    "- programming : 프로그래밍 언어를 사용하여 프로그램을 개발하는 것\n",
    "- program : 일련의 작업을 자동화하는 것\n",
    "- python : 포르그래밍 언어 중 하나, 인간이 컴퓨터에게 작업을 명령하기 위해 사용하는 컴퓨터가 이해할 수 있는 언어"
   ]
  },
  {
   "cell_type": "markdown",
   "id": "4f1510b6-49c2-4a5a-86c8-e241e4b9399e",
   "metadata": {
    "tags": []
   },
   "source": [
    "## Ch2. Data: Types, Values, Variables, and Names"
   ]
  },
  {
   "cell_type": "code",
   "execution_count": 11,
   "id": "f79d8625-c529-4f65-9ac6-7487f3de57d2",
   "metadata": {},
   "outputs": [],
   "source": [
    "a = 2"
   ]
  },
  {
   "cell_type": "markdown",
   "id": "32955104-ddef-452a-a0a3-fd9d57aea5e9",
   "metadata": {},
   "source": [
    "- 변수 | variable (i.e. a) : 특정 값을 저장하는 공간\n",
    "- 값 | value: 2\n",
    "- 자료형 | type: 2가 어떤 타입인가? 데이터의 형태. interger(i.e. int타입)\n",
    "- 할당하다 | assign: 2를 a에 넣는 과정\n",
    "    - a가 2다 -> a==2(equal)"
   ]
  },
  {
   "cell_type": "code",
   "execution_count": 12,
   "id": "5f399f5a-90e1-4fa0-a0b4-e0c222b7c07b",
   "metadata": {},
   "outputs": [
    {
     "data": {
      "text/plain": [
       "2"
      ]
     },
     "execution_count": 12,
     "metadata": {},
     "output_type": "execute_result"
    }
   ],
   "source": [
    "a"
   ]
  },
  {
   "cell_type": "code",
   "execution_count": 13,
   "id": "9cc5e028-32ad-4bb1-b804-0fa6242f1e33",
   "metadata": {},
   "outputs": [
    {
     "data": {
      "text/plain": [
       "True"
      ]
     },
     "execution_count": 13,
     "metadata": {},
     "output_type": "execute_result"
    }
   ],
   "source": [
    "a == 2"
   ]
  },
  {
   "cell_type": "markdown",
   "id": "50913a2b-6a40-46fd-a0fe-037dafdbcc88",
   "metadata": {},
   "source": [
    "### 변수의 타입\n",
    "- boolean|불리언: True, False (`bool`)\n",
    "- integer|정수: 1, 2, 3, 4, ... (`int`)\n",
    "- floating point number|부동소수점: 1.0, 2.0, 0.45, ... (`flaot`)\n",
    "- string|문자열: \"apple\", 'apple' (`str`)"
   ]
  },
  {
   "cell_type": "code",
   "execution_count": 14,
   "id": "f4625be8-f10b-47d6-bcd5-a1d56ec5fc7b",
   "metadata": {},
   "outputs": [
    {
     "data": {
      "text/plain": [
       "4"
      ]
     },
     "execution_count": 14,
     "metadata": {},
     "output_type": "execute_result"
    }
   ],
   "source": [
    "num = 4\n",
    "4"
   ]
  },
  {
   "cell_type": "code",
   "execution_count": 15,
   "id": "40df7390-4a4b-41d9-b1f8-6af410ba78d6",
   "metadata": {},
   "outputs": [
    {
     "name": "stdout",
     "output_type": "stream",
     "text": [
      "4\n"
     ]
    }
   ],
   "source": [
    "print(num)"
   ]
  },
  {
   "cell_type": "code",
   "execution_count": 16,
   "id": "b501ab4b-85bc-44ef-9b84-cda5665812b8",
   "metadata": {},
   "outputs": [
    {
     "data": {
      "text/plain": [
       "int"
      ]
     },
     "execution_count": 16,
     "metadata": {},
     "output_type": "execute_result"
    }
   ],
   "source": [
    "type(num)"
   ]
  },
  {
   "cell_type": "code",
   "execution_count": 17,
   "id": "b9d4967a-20b4-4835-b400-1721a157de57",
   "metadata": {},
   "outputs": [
    {
     "data": {
      "text/plain": [
       "float"
      ]
     },
     "execution_count": 17,
     "metadata": {},
     "output_type": "execute_result"
    }
   ],
   "source": [
    "type(1.0)"
   ]
  },
  {
   "cell_type": "code",
   "execution_count": 18,
   "id": "7838d781-9de4-4d74-a202-7b3230863861",
   "metadata": {},
   "outputs": [
    {
     "data": {
      "text/plain": [
       "bool"
      ]
     },
     "execution_count": 18,
     "metadata": {},
     "output_type": "execute_result"
    }
   ],
   "source": [
    "type(a==2)"
   ]
  },
  {
   "cell_type": "code",
   "execution_count": 19,
   "id": "91f6ddfb-742a-459a-ba14-a9bd2f8ac9ec",
   "metadata": {},
   "outputs": [
    {
     "name": "stdout",
     "output_type": "stream",
     "text": [
      "my name\n"
     ]
    }
   ],
   "source": [
    "name = 'my name'\n",
    "print(name)"
   ]
  },
  {
   "cell_type": "code",
   "execution_count": 20,
   "id": "0eb44490-c380-404d-ac8c-5a129fbde93d",
   "metadata": {},
   "outputs": [
    {
     "data": {
      "text/plain": [
       "str"
      ]
     },
     "execution_count": 20,
     "metadata": {},
     "output_type": "execute_result"
    }
   ],
   "source": [
    "type(name)"
   ]
  },
  {
   "cell_type": "code",
   "execution_count": 22,
   "id": "d6e6d72b-4831-45cc-a652-6634789d9583",
   "metadata": {},
   "outputs": [
    {
     "ename": "NameError",
     "evalue": "name 'my_name' is not defined",
     "output_type": "error",
     "traceback": [
      "\u001b[1;31m---------------------------------------------------------------------------\u001b[0m",
      "\u001b[1;31mNameError\u001b[0m                                 Traceback (most recent call last)",
      "\u001b[1;32m~\\AppData\\Local\\Temp/ipykernel_22388/3259166920.py\u001b[0m in \u001b[0;36m<module>\u001b[1;34m\u001b[0m\n\u001b[1;32m----> 1\u001b[1;33m \u001b[0mmy_name\u001b[0m \u001b[1;31m#변수명으로 인식, 없는 변수 -> 에러\u001b[0m\u001b[1;33m\u001b[0m\u001b[1;33m\u001b[0m\u001b[0m\n\u001b[0m",
      "\u001b[1;31mNameError\u001b[0m: name 'my_name' is not defined"
     ]
    }
   ],
   "source": [
    "my_name #변수명으로 인식, 없는 변수 -> 에러"
   ]
  },
  {
   "cell_type": "code",
   "execution_count": 25,
   "id": "9b56bb35-4ab5-4601-9574-94f3dc5315e2",
   "metadata": {},
   "outputs": [
    {
     "ename": "SyntaxError",
     "evalue": "invalid syntax (Temp/ipykernel_22388/1127375811.py, line 2)",
     "output_type": "error",
     "traceback": [
      "\u001b[1;36m  File \u001b[1;32m\"C:\\Users\\dg200\\AppData\\Local\\Temp/ipykernel_22388/1127375811.py\"\u001b[1;36m, line \u001b[1;32m2\u001b[0m\n\u001b[1;33m    'I'm Sam.'\u001b[0m\n\u001b[1;37m       ^\u001b[0m\n\u001b[1;31mSyntaxError\u001b[0m\u001b[1;31m:\u001b[0m invalid syntax\n"
     ]
    }
   ],
   "source": [
    "#single quote 안에 single quote를 문자로 인식하는 방법\n",
    "'I'm Sam.'\n",
    "\n",
    "#1. \\ 사용\n",
    "print('I\\'m Sam.')\n",
    "\n",
    "##2. \"\" 사용\n",
    "print(\"I'm Sam.\")"
   ]
  },
  {
   "cell_type": "markdown",
   "id": "11c1746d-a11f-4ec2-9722-641b9aecb936",
   "metadata": {},
   "source": [
    "### 변수명 정하기\n",
    "- 소문자, 대문자, 숫자, 언더바(_) 사용한다.\n",
    "     - 예: `name` , `my_name` , `NAME` , `Name`, `name3`\n",
    "     - 불가능한 예: `my-name`, `3name`\n",
    "     \n",
    "- 변수명으로 사용할 수 없는 케이스\n",
    "    1. 숫자로 시작할 수 없다.\n",
    "    2. 예약어는 사용할 수 없다."
   ]
  },
  {
   "cell_type": "code",
   "execution_count": 26,
   "id": "bec2239b-6d9b-4f65-8607-e9cd5603936a",
   "metadata": {},
   "outputs": [
    {
     "data": {
      "text/plain": [
       "'lee'"
      ]
     },
     "execution_count": 26,
     "metadata": {},
     "output_type": "execute_result"
    }
   ],
   "source": [
    "name = 'lee'\n",
    "name"
   ]
  },
  {
   "cell_type": "code",
   "execution_count": 27,
   "id": "22c9a94b-033e-4f75-b579-d9c1907a0cde",
   "metadata": {},
   "outputs": [
    {
     "ename": "SyntaxError",
     "evalue": "invalid syntax (Temp/ipykernel_22388/2942085305.py, line 1)",
     "output_type": "error",
     "traceback": [
      "\u001b[1;36m  File \u001b[1;32m\"C:\\Users\\dg200\\AppData\\Local\\Temp/ipykernel_22388/2942085305.py\"\u001b[1;36m, line \u001b[1;32m1\u001b[0m\n\u001b[1;33m    3name = 'kim'\u001b[0m\n\u001b[1;37m     ^\u001b[0m\n\u001b[1;31mSyntaxError\u001b[0m\u001b[1;31m:\u001b[0m invalid syntax\n"
     ]
    }
   ],
   "source": [
    "3name = 'kim' #숫자는 변수명 맨 앞에 올 수 없다."
   ]
  },
  {
   "cell_type": "code",
   "execution_count": 28,
   "id": "a50e6a49-1f70-416f-8e76-05136194cc04",
   "metadata": {},
   "outputs": [
    {
     "ename": "SyntaxError",
     "evalue": "invalid syntax (Temp/ipykernel_22388/3702995781.py, line 1)",
     "output_type": "error",
     "traceback": [
      "\u001b[1;36m  File \u001b[1;32m\"C:\\Users\\dg200\\AppData\\Local\\Temp/ipykernel_22388/3702995781.py\"\u001b[1;36m, line \u001b[1;32m1\u001b[0m\n\u001b[1;33m    def = 'Hwang' # 예약어는 변수명으로 사용할 수 없다.\u001b[0m\n\u001b[1;37m        ^\u001b[0m\n\u001b[1;31mSyntaxError\u001b[0m\u001b[1;31m:\u001b[0m invalid syntax\n"
     ]
    }
   ],
   "source": [
    "def = 'Hwang' # 예약어는 변수명으로 사용할 수 없다."
   ]
  },
  {
   "cell_type": "code",
   "execution_count": 43,
   "id": "a4c7b268-c6dc-4e2b-abee-db4d92385776",
   "metadata": {},
   "outputs": [
    {
     "name": "stdout",
     "output_type": "stream",
     "text": [
      "Help on module keyword:\n",
      "\n",
      "NAME\n",
      "    keyword - Keywords (from \"Grammar/python.gram\")\n",
      "\n",
      "MODULE REFERENCE\n",
      "    https://docs.python.org/3.9/library/keyword\n",
      "    \n",
      "    The following documentation is automatically generated from the Python\n",
      "    source files.  It may be incomplete, incorrect or include features that\n",
      "    are considered implementation detail and may vary between Python\n",
      "    implementations.  When in doubt, consult the module reference at the\n",
      "    location listed above.\n",
      "\n",
      "DESCRIPTION\n",
      "    This file is automatically generated; please don't muck it up!\n",
      "    \n",
      "    To update the symbols in this file, 'cd' to the top directory of\n",
      "    the python source tree and run:\n",
      "    \n",
      "        PYTHONPATH=Tools/peg_generator python3 -m pegen.keywordgen         Grammar/Grammar         Grammar/Tokens         Lib/keyword.py\n",
      "    \n",
      "    Alternatively, you can run 'make regen-keyword'.\n",
      "\n",
      "FUNCTIONS\n",
      "    iskeyword = __contains__(...) method of builtins.frozenset instance\n",
      "        x.__contains__(y) <==> y in x.\n",
      "    \n",
      "    issoftkeyword = __contains__(...) method of builtins.frozenset instance\n",
      "        x.__contains__(y) <==> y in x.\n",
      "\n",
      "DATA\n",
      "    __all__ = ['iskeyword', 'issoftkeyword', 'kwlist', 'softkwlist']\n",
      "    kwlist = ['False', 'None', 'True', '__peg_parser__', 'and', 'as', 'ass...\n",
      "    softkwlist = []\n",
      "\n",
      "FILE\n",
      "    c:\\users\\dg200\\anaconda3\\lib\\keyword.py\n",
      "\n",
      "\n"
     ]
    }
   ],
   "source": [
    "help('keyword')"
   ]
  },
  {
   "cell_type": "markdown",
   "id": "fe5bcfef-1d1c-4f7d-a5c9-9de743093f31",
   "metadata": {},
   "source": [
    "- 주의할 점(특별한 용도가 있어서 일반적으로 사용하지 않는 변수명 타입)\n",
    "    1. 언더바로 시작하는 변수명\n",
    "        예: _name\n",
    "    2. 언더바가 2개 있는 변수명\n",
    "        예: _name_\n",
    "    3. 대문자로 시작하는 변수명\n",
    "        예: Car\n",
    "    4. 전체가 대문자인 변수명\n",
    "        예: CAR"
   ]
  },
  {
   "cell_type": "code",
   "execution_count": 29,
   "id": "534f8fcb-91c4-44b2-8322-e2ec782c708a",
   "metadata": {},
   "outputs": [],
   "source": [
    "# number != Number\n",
    "word1 = 'number'\n",
    "word2 = 'Number'"
   ]
  },
  {
   "cell_type": "code",
   "execution_count": 30,
   "id": "a2d50904-1b16-4c24-87f1-ae743717f870",
   "metadata": {},
   "outputs": [
    {
     "data": {
      "text/plain": [
       "False"
      ]
     },
     "execution_count": 30,
     "metadata": {},
     "output_type": "execute_result"
    }
   ],
   "source": [
    "word1 == word2 #대소문자 구분한다."
   ]
  },
  {
   "cell_type": "code",
   "execution_count": 32,
   "id": "72242dbd-6bcd-4b85-8fce-95579493dce0",
   "metadata": {},
   "outputs": [
    {
     "data": {
      "text/plain": [
       "True"
      ]
     },
     "execution_count": 32,
     "metadata": {},
     "output_type": "execute_result"
    }
   ],
   "source": [
    "word1 != word2"
   ]
  },
  {
   "cell_type": "markdown",
   "id": "4a5a436e-58e5-4d48-afc5-6c5593904a5c",
   "metadata": {},
   "source": [
    "### 할당하기\n",
    "- 수학에서는 =가 양변이 같음을 의미하는데, 프로그램에서는 할당을 의미한ㄷ.\n",
    "    예: `name = 'Lee'`\n",
    "    - lee라는 값을 name에 넣는 것\n",
    "- 오른쪽에 있는 모든 것은 값을 가져야 한다. (\"초기화\")"
   ]
  },
  {
   "cell_type": "code",
   "execution_count": 34,
   "id": "be3fca35-b8ad-4c0e-9d30-08ab2ef125e2",
   "metadata": {},
   "outputs": [],
   "source": [
    "car = 'hyundai'"
   ]
  },
  {
   "cell_type": "code",
   "execution_count": 35,
   "id": "d5088814-37e4-47b5-9e30-c67c13c971fc",
   "metadata": {
    "tags": []
   },
   "outputs": [
    {
     "ename": "NameError",
     "evalue": "name 'kia' is not defined",
     "output_type": "error",
     "traceback": [
      "\u001b[1;31m---------------------------------------------------------------------------\u001b[0m",
      "\u001b[1;31mNameError\u001b[0m                                 Traceback (most recent call last)",
      "\u001b[1;32m~\\AppData\\Local\\Temp/ipykernel_22388/3089763647.py\u001b[0m in \u001b[0;36m<module>\u001b[1;34m\u001b[0m\n\u001b[1;32m----> 1\u001b[1;33m \u001b[0mtruck\u001b[0m \u001b[1;33m=\u001b[0m \u001b[0mkia\u001b[0m\u001b[1;33m\u001b[0m\u001b[1;33m\u001b[0m\u001b[0m\n\u001b[0m",
      "\u001b[1;31mNameError\u001b[0m: name 'kia' is not defined"
     ]
    }
   ],
   "source": [
    "truck = kia # 없는 값이기 때문에"
   ]
  },
  {
   "cell_type": "code",
   "execution_count": 39,
   "id": "6fafb95f-19d6-4ee3-b5c2-3e9ec65d3f8b",
   "metadata": {},
   "outputs": [
    {
     "name": "stdout",
     "output_type": "stream",
     "text": [
      "kia\n"
     ]
    }
   ],
   "source": [
    "kia = 'kia'\n",
    "truck = kia\n",
    "print(truck)"
   ]
  },
  {
   "cell_type": "code",
   "execution_count": 36,
   "id": "927e8bbc-ff0b-4e79-a13f-af99a4f43e19",
   "metadata": {},
   "outputs": [
    {
     "ename": "NameError",
     "evalue": "name 'x' is not defined",
     "output_type": "error",
     "traceback": [
      "\u001b[1;31m---------------------------------------------------------------------------\u001b[0m",
      "\u001b[1;31mNameError\u001b[0m                                 Traceback (most recent call last)",
      "\u001b[1;32m~\\AppData\\Local\\Temp/ipykernel_22388/1029541401.py\u001b[0m in \u001b[0;36m<module>\u001b[1;34m\u001b[0m\n\u001b[1;32m----> 1\u001b[1;33m \u001b[0my\u001b[0m \u001b[1;33m=\u001b[0m \u001b[0mx\u001b[0m \u001b[1;33m+\u001b[0m \u001b[1;36m10\u001b[0m\u001b[1;33m\u001b[0m\u001b[1;33m\u001b[0m\u001b[0m\n\u001b[0m",
      "\u001b[1;31mNameError\u001b[0m: name 'x' is not defined"
     ]
    }
   ],
   "source": [
    "y = x + 10 #name 'x' is not defined"
   ]
  },
  {
   "cell_type": "code",
   "execution_count": 37,
   "id": "10421c46-2b71-4728-ba0e-4e6d3c9515f8",
   "metadata": {},
   "outputs": [
    {
     "name": "stdout",
     "output_type": "stream",
     "text": [
      "2 12\n"
     ]
    }
   ],
   "source": [
    "x = 2\n",
    "y = x+ 10\n",
    "print(x,y)"
   ]
  },
  {
   "cell_type": "code",
   "execution_count": 40,
   "id": "1e0cd5c0-7905-414d-9cf5-c701a00a7a66",
   "metadata": {},
   "outputs": [],
   "source": [
    "car = 'kia'"
   ]
  },
  {
   "cell_type": "code",
   "execution_count": 41,
   "id": "551aee86-0eae-4315-8d59-8a2349b5f561",
   "metadata": {},
   "outputs": [
    {
     "data": {
      "text/plain": [
       "'kia'"
      ]
     },
     "execution_count": 41,
     "metadata": {},
     "output_type": "execute_result"
    }
   ],
   "source": [
    "car"
   ]
  }
 ],
 "metadata": {
  "kernelspec": {
   "display_name": "Python 3 (ipykernel)",
   "language": "python",
   "name": "python3"
  },
  "language_info": {
   "codemirror_mode": {
    "name": "ipython",
    "version": 3
   },
   "file_extension": ".py",
   "mimetype": "text/x-python",
   "name": "python",
   "nbconvert_exporter": "python",
   "pygments_lexer": "ipython3",
   "version": "3.9.7"
  }
 },
 "nbformat": 4,
 "nbformat_minor": 5
}
