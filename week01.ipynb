{
 "cells": [
  {
   "cell_type": "code",
   "execution_count": 3,
   "id": "d9cc682d",
   "metadata": {},
   "outputs": [],
   "source": [
    "# 주석 다는 방법(코드가 아닌 부분)\n",
    "# run : shift+enter\n",
    "# markdown : m"
   ]
  },
  {
   "cell_type": "markdown",
   "id": "e0b77cce",
   "metadata": {},
   "source": [
    "## 프로그래밍이란?\n",
    "- programming : 프로그래밍 언어를 사용하여 프로그램을 개발하는 것\n",
    "- program : 일련의 작업을 자동화하는 것\n",
    "- python : 포르그래밍 언어 중 하나, 인간이 컴퓨터에게 작업을 명령하기 위해 사용하는 컴퓨터가 이해할 수 있는 언어"
   ]
  },
  {
   "cell_type": "markdown",
   "id": "471fedc5",
   "metadata": {},
   "source": [
    "# Ch2.  데이터: 타입, 값, 변수, 이름"
   ]
  },
  {
   "cell_type": "code",
   "execution_count": 4,
   "id": "4e1bc971",
   "metadata": {},
   "outputs": [],
   "source": [
    "a = 2"
   ]
  },
  {
   "cell_type": "markdown",
   "id": "f8a40063",
   "metadata": {},
   "source": [
    "- 변수 | variable (i.e. a) : 특정 값을 저장하는 공간\n",
    "- 값 | value: 2\n",
    "- 자료형 | type: 2가 어떤 타입인가? 데이터의 형태. interger(i.e. int타입)\n",
    "- 할당하다 | assign: 2를 a에 넣는 과정\n",
    "    - a가 2다 -> a==2(equal)"
   ]
  },
  {
   "cell_type": "markdown",
   "id": "f31e3f85",
   "metadata": {},
   "source": [
    "## 변수의 타입\n",
    "- boolean|불리언: True, False (`bool`)\n",
    "- integer|정수: 1, 2, 3, 4, ... (`int`)\n",
    "- floating point number|부동소수점: 1.0, 2.0, 0.45, ... (`float`)\n",
    "- string|문자열: \"apple\", 'apple' (`str`)"
   ]
  },
  {
   "cell_type": "markdown",
   "id": "33f0cdb2",
   "metadata": {},
   "source": [
    "## 변수명 정하기\n",
    "- 소문자, 대문자, 숫자, 언더바(_) 사용한다.\n",
    "     - 예: `name` , `my_name` , `NAME` , `Name`, `name3`\n",
    "     - 불가능한 예: `my-name`, `3name`\n",
    "     \n",
    "- 변수명으로 사용할 수 없는 케이스\n",
    "    1. 숫자로 시작할 수 없다.\n",
    "    2. 예약어는 사용할 수 없다.\n",
    "\n",
    "- 주의할 점(특별한 용도가 있어서 일반적으로 사용하지 않는 변수명 타입)\n",
    "    1. 언더바로 시작하는 변수명\n",
    "        예: _name\n",
    "    2. 언더바가 2개 있는 변수명\n",
    "        예: `_name_`\n",
    "    3. 대문자로 시작하는 변수명\n",
    "        예: Car\n",
    "    4. 전체가 대문자인 변수명\n",
    "        예: CAR"
   ]
  },
  {
   "cell_type": "markdown",
   "id": "8fa01dfb",
   "metadata": {},
   "source": [
    "## 할당하기\n",
    "- 수학에서는 =가 양변이 같음을 의미하는데, 프로그램에서는 할당을 의미한다.\n",
    "        ex) name = 'Lee'\n",
    "        -> Lee라는 값을 name에 넣는 것\n",
    "- 오른쪽에 있는 모든 것은 값을 가져야 한다. (\"초기화\")"
   ]
  },
  {
   "cell_type": "markdown",
   "id": "47a68eef",
   "metadata": {},
   "source": [
    "# Cf. 참고"
   ]
  },
  {
   "cell_type": "markdown",
   "id": "e71fed69",
   "metadata": {},
   "source": [
    "## single quote 안에 single quote를 문자로 인식하는 방법\n",
    "'I'm Sam.'\n",
    "\n",
    "1. \\ 사용\n",
    "print('I\\'m Sam.')\n",
    "\n",
    "2. \"\" 사용\n",
    "print(\"I'm Sam.\")"
   ]
  }
 ],
 "metadata": {
  "kernelspec": {
   "display_name": "Python 3 (ipykernel)",
   "language": "python",
   "name": "python3"
  },
  "language_info": {
   "codemirror_mode": {
    "name": "ipython",
    "version": 3
   },
   "file_extension": ".py",
   "mimetype": "text/x-python",
   "name": "python",
   "nbconvert_exporter": "python",
   "pygments_lexer": "ipython3",
   "version": "3.9.7"
  }
 },
 "nbformat": 4,
 "nbformat_minor": 5
}
