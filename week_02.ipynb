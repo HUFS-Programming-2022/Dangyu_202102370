{
 "cells": [
  {
   "cell_type": "markdown",
   "id": "b75b2207",
   "metadata": {},
   "source": [
    "# Ch2.  데이터: 타입, 값, 변수, 이름"
   ]
  },
  {
   "cell_type": "markdown",
   "id": "51a34c4d",
   "metadata": {},
   "source": [
    "## 자료형 변환하기\n",
    "- int, float, str, bool"
   ]
  },
  {
   "cell_type": "code",
   "execution_count": 1,
   "id": "8641944d",
   "metadata": {
    "scrolled": true
   },
   "outputs": [
    {
     "name": "stdout",
     "output_type": "stream",
     "text": [
      "10.0\n",
      "10\n",
      "True\n",
      "10.9\n",
      "12\n",
      "11\n",
      "88\n",
      "88.3\n"
     ]
    }
   ],
   "source": [
    "# int -> float\n",
    "print(float(10))\n",
    "\n",
    "# int -> str\n",
    "print(str(10))\n",
    "\n",
    "# int -> bool\n",
    "print(bool(10))\n",
    "\n",
    "# float -> int => 정수형 변환 시 소수점 이하 값을 버린다.\n",
    "print(float(10.9))\n",
    "## 계산 참고\n",
    "x = 4.6; y = 7.9\n",
    "print(int(x + y)) # 12.xx\n",
    "print(int(x) + int(y)) # 4+7\n",
    "\n",
    "# str -> int\n",
    "p = '88'\n",
    "print(int(p))\n",
    "q = '88.3'\n",
    "print(float(q)) # int(q) -> X / q가 정수가 아니기 때문"
   ]
  },
  {
   "cell_type": "markdown",
   "id": "190f91ef",
   "metadata": {},
   "source": [
    "## input()\n",
    "- console에서 사용자에게 값을 입력 받는 함수\n",
    "- 입출력 관련된\n",
    "- 입력 받는 값의 타입은 문자열(str)"
   ]
  },
  {
   "cell_type": "code",
   "execution_count": 2,
   "id": "fb84e88f",
   "metadata": {},
   "outputs": [
    {
     "name": "stdout",
     "output_type": "stream",
     "text": [
      "What's your name?dangyu\n",
      "What's your name?\n",
      "dangyu\n",
      "How old are you?22\n",
      "당신이 태어난 해는 2001 입니다.\n"
     ]
    }
   ],
   "source": [
    "# 1.\n",
    "name = input(\"What's your name?\")\n",
    "\n",
    "# 2.\n",
    "print(\"What's your name?\")\n",
    "name = input()\n",
    "\n",
    "# 3.\n",
    "# input을 str이 아닌 다른 타입으로 사용하고 싶을 때에는 형 변환을 미리 해준다.\n",
    "age = int(input(\"How old are you?\"))\n",
    "print(f'당신이 태어난 해는 {2022- age + 1} 입니다.') # 연산 가능 # print(f'{<variable>}')"
   ]
  },
  {
   "cell_type": "markdown",
   "id": "d877fe71",
   "metadata": {},
   "source": [
    "## quiz1\n",
    "- 택배 정보를 입력 받고 무게에 따른 값 산정하기\n",
    "    - 수취인 성명:\n",
    "    - 수취인 주소:\n",
    "    - 배송비: 3000원\n",
    "    - 물건 비용: <계산된 값>원\n",
    "    - 총 합계:"
   ]
  },
  {
   "cell_type": "code",
   "execution_count": 6,
   "id": "88fa815b",
   "metadata": {},
   "outputs": [
    {
     "name": "stdout",
     "output_type": "stream",
     "text": [
      "수취인 성명:이단규\n",
      "수취인 주소:서울\n",
      "물건 무게:500\n",
      "수취인 성명: 이단규\n",
      "수취인 주소: 서울\n",
      "배송비: 3000원\n",
      "물건 비용:2500원\n",
      "총 합계: 5500원\n"
     ]
    }
   ],
   "source": [
    "name = input(\"수취인 성명:\")\n",
    "address = input(\"수취인 주소:\")\n",
    "weight = int(input(\"물건 무게:\"))\n",
    "charge = weight * 5\n",
    "total = charge + 3000\n",
    "\n",
    "print(f'수취인 성명: {name}')\n",
    "print(f'수취인 주소: {address}')\n",
    "print('배송비: 3000원')\n",
    "print(f'물건 비용:{charge}원')\n",
    "print(f'총 합계: {total}원')"
   ]
  },
  {
   "cell_type": "markdown",
   "id": "07183f58",
   "metadata": {},
   "source": [
    "# Ch3. 숫자"
   ]
  },
  {
   "cell_type": "markdown",
   "id": "54d14f03",
   "metadata": {},
   "source": [
    "## boolean\n",
    "- True / False\n",
    "- False인 값\n",
    "- if문 (조건식): \"만약 어떤 값이 True면 ...\""
   ]
  },
  {
   "cell_type": "code",
   "execution_count": 11,
   "id": "5d834533",
   "metadata": {},
   "outputs": [
    {
     "name": "stdout",
     "output_type": "stream",
     "text": [
      "False\n",
      "False\n",
      "True\n",
      "True\n"
     ]
    }
   ],
   "source": [
    "# False : 0, None\n",
    "print(bool(0)); print(bool(None))\n",
    "\n",
    "# True : 0, None 제외\n",
    "print(bool(1)); print(bool('A'))"
   ]
  },
  {
   "cell_type": "markdown",
   "id": "15bc17ab",
   "metadata": {},
   "source": [
    "## Integer\n",
    "- 분수나 소수가 아닌 정수\n",
    "- 음수는 '-' 기호를 붙인다: i.e. -50\n",
    "- default = 양수\n",
    "- 숫자 앞에는 0을 쓰지 못한다. i.e. 09\n",
    "    - 0bxx (10진수가 아닌)\n",
    "- 숫자 사이에 쉼표를 쓰면 오류: 100,000 (x) -> 100_000\n",
    "   => 숫자 사이의 언더바는 인식하지 않는다는 의미"
   ]
  },
  {
   "cell_type": "markdown",
   "id": "cce0846d",
   "metadata": {},
   "source": [
    "## 연산자|operator\n",
    "- +, -, *, /\n",
    "- 피연산자|operand: 1, 2, ...\n",
    "- 수식|expression"
   ]
  },
  {
   "cell_type": "markdown",
   "id": "6b2e882f",
   "metadata": {},
   "source": [
    "### 연산\n",
    "- x + y\n",
    "- x - y\n",
    "- x * y\n",
    "- x / y\n",
    "- x // y : 몫\n",
    "- x % y : 나머지\n",
    "- x ** y : 거듭제곱|exponential\n",
    "- divmod(x, y) : (몫, 나머지)"
   ]
  },
  {
   "cell_type": "markdown",
   "id": "7f5bd21d",
   "metadata": {},
   "source": [
    "### 복합 대입 연산자 | compound assignment operator\n",
    "\n",
    "*x = 0(x를 먼저 정의)\n",
    "- x += 3\n",
    "- x -= 3\n",
    "- x *= 3\n",
    "- x /= 3"
   ]
  },
  {
   "cell_type": "markdown",
   "id": "3e33e51c",
   "metadata": {},
   "source": [
    "## 지수 표현\n",
    "- ex) '1.0e-4'\n",
    "- e의 앞부분은 소수, 정수 둘다 됨\n",
    "- 뒷부분은 정수여야 함\n",
    "- 뒷부분이 음수면 소수점 자릿수를 의미함\n",
    "- e, E"
   ]
  },
  {
   "cell_type": "code",
   "execution_count": 21,
   "id": "9abc8043",
   "metadata": {},
   "outputs": [
    {
     "name": "stdout",
     "output_type": "stream",
     "text": [
      "0.0001\n",
      "0.0004005\n"
     ]
    }
   ],
   "source": [
    "print(1e-4)\n",
    "print(4.005e-4) # 0.0004005 => 지수로 표현하기"
   ]
  },
  {
   "cell_type": "markdown",
   "id": "ff515fd2",
   "metadata": {},
   "source": [
    "## Quiz 1.\n",
    "- 반지름을 입력 받아서 원의 면적 구하기\n",
    "- 면적 = pi * r제곱"
   ]
  },
  {
   "cell_type": "code",
   "execution_count": 13,
   "id": "11a92419",
   "metadata": {},
   "outputs": [
    {
     "name": "stdout",
     "output_type": "stream",
     "text": [
      "원의 반지름: 5\n",
      "78.5\n"
     ]
    }
   ],
   "source": [
    "r = float(input('원의 반지름: '))\n",
    "pi = 3.14\n",
    "s = pi * (r ** 2)\n",
    "print(s)"
   ]
  },
  {
   "cell_type": "markdown",
   "id": "37557de1",
   "metadata": {},
   "source": [
    "## Quiz 2.\n",
    "- 숫자를 입력 받고 3의 배수인지 확인하기\n",
    "- 숫자를 입력 받고 홀수인지 확인하기"
   ]
  },
  {
   "cell_type": "code",
   "execution_count": 36,
   "id": "1d95e2a2",
   "metadata": {},
   "outputs": [
    {
     "name": "stdout",
     "output_type": "stream",
     "text": [
      "숫자를 입력하세요:6\n",
      "True\n"
     ]
    }
   ],
   "source": [
    "num = int(input('숫자를 입력하세요:'))\n",
    "print(bool(num%3==0))"
   ]
  },
  {
   "cell_type": "code",
   "execution_count": 38,
   "id": "df9d3ba1",
   "metadata": {},
   "outputs": [
    {
     "name": "stdout",
     "output_type": "stream",
     "text": [
      "숫자를 입력하세요:3\n",
      "True\n"
     ]
    }
   ],
   "source": [
    "num = int(input('숫자를 입력하세요:'))\n",
    "print(bool(num%2==1))"
   ]
  },
  {
   "cell_type": "markdown",
   "id": "1efa5c7b",
   "metadata": {},
   "source": [
    "# Ch4. 선택하기: if"
   ]
  },
  {
   "cell_type": "markdown",
   "id": "aba6828f",
   "metadata": {},
   "source": [
    "## if\n",
    "1. if <조건식>:\n",
    "        <실행할 코드>\n",
    "2. if <조건식>:\n",
    "        <실행할 코드1>\n",
    "  else:\n",
    "        <실행할 코드2>\n",
    "3. if <조건식1>:\n",
    "        <실행할 코드1>\n",
    "  elif <조건식2>:\n",
    "        <실행할 코드2>\n",
    "  else:\n",
    "        <실행할 코드3>"
   ]
  },
  {
   "cell_type": "code",
   "execution_count": 30,
   "id": "6c8c7c31",
   "metadata": {},
   "outputs": [
    {
     "name": "stdout",
     "output_type": "stream",
     "text": [
      "3보다 크다\n"
     ]
    }
   ],
   "source": [
    "a = 4\n",
    "if a < 3:\n",
    "    print(\"3보다 작다\")\n",
    "elif a == 3:\n",
    "    print(\"3이다\")\n",
    "else:\n",
    "    print(\"3보다 크다\")"
   ]
  },
  {
   "cell_type": "code",
   "execution_count": 29,
   "id": "11bccbc0",
   "metadata": {},
   "outputs": [
    {
     "name": "stdout",
     "output_type": "stream",
     "text": [
      "2보다 크다\n",
      "2.5이다\n",
      "3보다 작다\n"
     ]
    }
   ],
   "source": [
    "# 각각 실행됨\n",
    "a= 2.5\n",
    "if a > 2:\n",
    "    print(\"2보다 크다\")\n",
    "    \n",
    "if a == 2.5:\n",
    "    print(\"2.5이다\")\n",
    "    \n",
    "if a < 3:\n",
    "    print(\"3보다 작다\")"
   ]
  },
  {
   "cell_type": "markdown",
   "id": "6e697166",
   "metadata": {},
   "source": [
    "## 비교연산자\n",
    "- x < y\n",
    "- x > y\n",
    "- x >= y\n",
    "- x <= y\n",
    "- x == y (값이)\n",
    "- x != y\n",
    "- x is y (값, 메모리주소)\n",
    "- x is not y"
   ]
  },
  {
   "cell_type": "markdown",
   "id": "be5e5ac1",
   "metadata": {},
   "source": [
    "## quiz1\n",
    "- 1. 시험 점수를 입력 받고, 80점 이상이면 True, 아니면 False 반환하기\n",
    "- 2. 시험 점수를 입력 받고, 95 이상 A+, 90 이상A, 85 이상 B+, 나머지 F로 출력하세요."
   ]
  },
  {
   "cell_type": "code",
   "execution_count": 25,
   "id": "bd07a38e",
   "metadata": {},
   "outputs": [
    {
     "name": "stdout",
     "output_type": "stream",
     "text": [
      "시험 점수:90\n",
      "True\n"
     ]
    }
   ],
   "source": [
    "score = int(input('시험 점수:'))\n",
    "\n",
    "if score >= 80:\n",
    "    print('True')\n",
    "else:\n",
    "    print('False')"
   ]
  },
  {
   "cell_type": "code",
   "execution_count": 26,
   "id": "688c42a1",
   "metadata": {},
   "outputs": [
    {
     "name": "stdout",
     "output_type": "stream",
     "text": [
      "시험 점수:90\n",
      "A\n"
     ]
    }
   ],
   "source": [
    "score = int(input('시험 점수:'))\n",
    "\n",
    "if score >= 95:\n",
    "    print('A+')\n",
    "elif score >= 90:\n",
    "    print('A')\n",
    "elif score >= 85:\n",
    "    print('B+')\n",
    "else:\n",
    "    print('F')"
   ]
  },
  {
   "cell_type": "markdown",
   "id": "a82f0e30",
   "metadata": {},
   "source": [
    "# Cf. 팁"
   ]
  },
  {
   "cell_type": "markdown",
   "id": "dccd585a",
   "metadata": {},
   "source": [
    "## 코드 짜는 팁\n",
    "- 주석 달기\n",
    "    - `#` harsh, sharp, ..\n",
    "    - `#` 시작 지점부터 라인 끝까지 주석 처리됨. 라인이 바뀌면 코드로 인식\n",
    "    - \"\"\" \"\"\"\n",
    "    - 문자열 안에 있는 sharp는 부호로 인식한다\n",
    "    - 이유? 코드에 대한 설명은 최대한 하지 않는다. 의도를 나타내기 위해, 오류가 있다거나, ...\n",
    "    \n",
    "- 라인 유지하기\n",
    "    - 들여쓰기 (default space 4ro, 탭을 이용해서)\n",
    "    - 논리 구조를 나타내기 때문에 굉장히 중요함.\n",
    "    - 한 라인에 80자 정도 (백슬래시로 라인을 끊어준다 (`\\`)}"
   ]
  },
  {
   "cell_type": "code",
   "execution_count": 24,
   "id": "654a6101",
   "metadata": {},
   "outputs": [
    {
     "name": "stdout",
     "output_type": "stream",
     "text": [
      "3\n",
      "hey, there #\n"
     ]
    }
   ],
   "source": [
    "a = 3 # 주석입니다\n",
    "\"\"\"\n",
    "주석1\n",
    "주석2\n",
    "주석3\n",
    "\"\"\"\n",
    "print(a)\n",
    "\n",
    "print('hey, there #')"
   ]
  },
  {
   "cell_type": "markdown",
   "id": "cc7ddea7",
   "metadata": {},
   "source": [
    "## `print()` 꿀팁"
   ]
  },
  {
   "cell_type": "code",
   "execution_count": 3,
   "id": "d030bce0",
   "metadata": {},
   "outputs": [
    {
     "name": "stdout",
     "output_type": "stream",
     "text": [
      "5\n",
      "orangeappletomato\n",
      "orange apple tomato\n",
      "orange_apple_tomato\n",
      "\n",
      "EOL\n"
     ]
    }
   ],
   "source": [
    "orange = 'orange'\n",
    "apple = 'apple'\n",
    "tomato = 'tomato'\n",
    "\n",
    "# 라인이 짧을 때 => ;\n",
    "orange = 'orange'; apple = 'apple'; tomato = 'tomato'\n",
    "num = 5; print(num)\n",
    "\n",
    "# 공백(+, sep, end, EOL)\n",
    "print(orange + apple + tomato) # + 연결 가능하지만 원소들간의 공백 사라진다\n",
    "print(orange, apple, tomato, sep=' ', end='\\n') #default\n",
    "print(orange, apple, tomato, sep='_', end='\\n\\n')\n",
    "print('EOL')"
   ]
  }
 ],
 "metadata": {
  "kernelspec": {
   "display_name": "Python 3 (ipykernel)",
   "language": "python",
   "name": "python3"
  },
  "language_info": {
   "codemirror_mode": {
    "name": "ipython",
    "version": 3
   },
   "file_extension": ".py",
   "mimetype": "text/x-python",
   "name": "python",
   "nbconvert_exporter": "python",
   "pygments_lexer": "ipython3",
   "version": "3.9.7"
  }
 },
 "nbformat": 4,
 "nbformat_minor": 5
}
