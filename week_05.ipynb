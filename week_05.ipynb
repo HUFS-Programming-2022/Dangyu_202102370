{
 "cells": [
  {
   "cell_type": "markdown",
   "id": "a40b437c",
   "metadata": {},
   "source": [
    "## Ch. 05"
   ]
  },
  {
   "cell_type": "markdown",
   "id": "e10af2fc",
   "metadata": {},
   "source": [
    "## 반복문\n",
    "- for, while\n",
    "\n",
    "### while\n",
    "- 어떤 조건이 만족할 때까지 블록 수행\n",
    "- 해당 조건이 거짓이면 수행을 멈춘다\n",
    "    - 언제 빠져나오는지 정확히 알아야 한다.\n",
    "- for + if\n",
    "\n",
    "#### for vs while\n",
    "- for loop: 반복 횟수 정확히 알고, 반복 횟수 변하지 않을 때\n",
    "    - 예: 전체 학생 성적 산출\n",
    "- while loop: 반복 횟수 정확하지 않고, 어떤 조건을 만족시킬 때 프로그램 종료하고 싶다면 사용\n",
    "    - 예: 가위바위보를 이기면 종료"
   ]
  },
  {
   "cell_type": "code",
   "execution_count": 1,
   "id": "d2d92262",
   "metadata": {},
   "outputs": [
    {
     "name": "stdout",
     "output_type": "stream",
     "text": [
      "a\n",
      "b\n",
      "c\n"
     ]
    }
   ],
   "source": [
    "# for\n",
    "characters = ['a', 'b', 'c']\n",
    "for ch in characters:\n",
    "    print(ch)"
   ]
  },
  {
   "cell_type": "code",
   "execution_count": 2,
   "id": "ae94a807",
   "metadata": {},
   "outputs": [
    {
     "name": "stdout",
     "output_type": "stream",
     "text": [
      "a\n",
      "b\n",
      "c\n"
     ]
    }
   ],
   "source": [
    "# while\n",
    "ch = 0\n",
    "while ch < len(characters):\n",
    "    print(characters[ch])\n",
    "    ch += 1"
   ]
  },
  {
   "cell_type": "markdown",
   "id": "d6d4e42b",
   "metadata": {},
   "source": [
    "### 반복문의 제어\n",
    "- 의도치 않게 코드를 종료시킬 수 있기 때문에 되도록 사용하지 않는다.\n",
    "\n",
    "- break: 논리적으로 반복을 종료시키는 방법, break 시점을 잘 알아야 함\n",
    "- else: 어떤 조건이 \"완전히\" 끝났을 때 한번 더 실행하는 블록. break로 끝난 것과 구분할 수 있다.\n",
    "- continue: 특정 조건을 건너뛰고 다음 조건을 수행함"
   ]
  },
  {
   "cell_type": "code",
   "execution_count": 3,
   "id": "26703e01",
   "metadata": {},
   "outputs": [
    {
     "name": "stdout",
     "output_type": "stream",
     "text": [
      "0\n",
      "1\n",
      "2\n",
      "3\n",
      "4\n"
     ]
    }
   ],
   "source": [
    "j = 0\n",
    "while j <5:\n",
    "    print(j)\n",
    "    if j == 4: break\n",
    "    j += 1\n",
    "else:\n",
    "    print(\"끝\")"
   ]
  },
  {
   "cell_type": "code",
   "execution_count": 4,
   "id": "0dc33843",
   "metadata": {},
   "outputs": [
    {
     "name": "stdout",
     "output_type": "stream",
     "text": [
      "0\n",
      "1\n",
      "2\n",
      "3\n",
      "4\n",
      "5\n",
      "7\n",
      "8\n",
      "9\n"
     ]
    }
   ],
   "source": [
    "for i in range(10):\n",
    "    if i == 6:\n",
    "        continue\n",
    "    print(i)"
   ]
  },
  {
   "cell_type": "markdown",
   "id": "7bae8d13",
   "metadata": {},
   "source": [
    "### 구구단\n",
    "- 프로그램으로 만든다.\n",
    "    - 1) n단 2) 1~n단 3) n~m단\n",
    "    - 3번 -> n, m -> ...\n",
    "    - 메뉴에 없는 선택 처리"
   ]
  },
  {
   "cell_type": "code",
   "execution_count": 5,
   "id": "93e237e2",
   "metadata": {},
   "outputs": [
    {
     "name": "stdout",
     "output_type": "stream",
     "text": [
      "1) n단 2) 1~n단 3) n~m단 \n",
      " 원하는 타입을 숫자로 입력해 주세요:3\n",
      "시작단을 입력하세요:2\n",
      "끝단을 입력하세요:3\n",
      "== 2단 ==\n",
      "2 x 1 = 2\n",
      "2 x 2 = 4\n",
      "2 x 3 = 6\n",
      "2 x 4 = 8\n",
      "2 x 5 = 10\n",
      "2 x 6 = 12\n",
      "2 x 7 = 14\n",
      "2 x 8 = 16\n",
      "2 x 9 = 18\n",
      "== 3단 ==\n",
      "3 x 1 = 3\n",
      "3 x 2 = 6\n",
      "3 x 3 = 9\n",
      "3 x 4 = 12\n",
      "3 x 5 = 15\n",
      "3 x 6 = 18\n",
      "3 x 7 = 21\n",
      "3 x 8 = 24\n",
      "3 x 9 = 27\n"
     ]
    }
   ],
   "source": [
    "while True:\n",
    "    type_n = int(input('1) n단 2) 1~n단 3) n~m단 \\n 원하는 타입을 숫자로 입력해 주세요:'))\n",
    "    if type_n == 1:\n",
    "        n = int(input('숫자를 입력하세요:'))\n",
    "        print(f'== {n}단 ==')\n",
    "        for i in range(1,10):\n",
    "            print(f'{n} x {i} = {n * i}')\n",
    "        break\n",
    "        \n",
    "    elif type_n == 2:\n",
    "        n = int(input('숫자를 입력하세요:'))\n",
    "        for j in range(1, n+1):\n",
    "            print(f'== {j}단 ==')\n",
    "            for i in range(1,10):\n",
    "                print(f'{j} x {i} = {j * i}')\n",
    "        break\n",
    "        \n",
    "    elif type_n == 3:\n",
    "        while True:\n",
    "            n = int(input('시작단을 입력하세요:'))\n",
    "            m = int(input('끝단을 입력하세요:'))\n",
    "            if n < m:\n",
    "                break\n",
    "            else:\n",
    "                print('숫자를 다시 입력해주세요:')\n",
    "        for j in range(n, m+1):\n",
    "            print(f'== {j}단 ==')\n",
    "            for i in range(1,10):\n",
    "                print(f'{j} x {i} = {j * i}')\n",
    "        break\n",
    "        \n",
    "    else:\n",
    "        print(\"숫자를 다시 입력해주세요\")"
   ]
  },
  {
   "cell_type": "markdown",
   "id": "00491531",
   "metadata": {},
   "source": [
    "### print formatting\n",
    "- 1. f string\n",
    "    - f, F 둘다 사용 가능\n",
    "    - f'{var}'\n",
    "- 2. format\n",
    "    - '{}'.format(var)\n",
    "- 3. %\n",
    "    - ' %type ' % var"
   ]
  },
  {
   "cell_type": "code",
   "execution_count": 6,
   "id": "54837f26",
   "metadata": {},
   "outputs": [
    {
     "name": "stdout",
     "output_type": "stream",
     "text": [
      "나의 이름은 lee\n",
      "나의 이름은 name= 'lee'\n",
      "너의 이름은 lee\n",
      "나의 이름은 lee입니다.\n"
     ]
    }
   ],
   "source": [
    "name = 'lee'\n",
    "print(f'나의 이름은 {name}')\n",
    "print(f'나의 이름은 {name= }')\n",
    "print('너의 이름은 {}'.format(name)) # {:,1s} # 소수점 출력 시 활용\n",
    "print('나의 이름은 %s입니다.' %name)"
   ]
  },
  {
   "cell_type": "markdown",
   "id": "46c389ed",
   "metadata": {},
   "source": [
    "### NLTK: Corpus\n",
    "- 다양한 종류의 코퍼스가 있다\n",
    "- 더 다양한 언어 분석이 가능\n",
    "- 종류\n",
    "    - gutenberg\n",
    "    - brwon\n",
    "    - inaugural\n",
    "- 함수\n",
    "    - words()\n",
    "    - sents()\n",
    "    - fileds()\n",
    "    - raw()"
   ]
  },
  {
   "cell_type": "code",
   "execution_count": 7,
   "id": "ecca29bf",
   "metadata": {},
   "outputs": [
    {
     "data": {
      "text/plain": [
       "True"
      ]
     },
     "execution_count": 7,
     "metadata": {},
     "output_type": "execute_result"
    }
   ],
   "source": [
    "import nltk\n",
    "from nltk.corpus import gutenberg\n",
    "nltk.download('gutenberg', quiet=True)"
   ]
  },
  {
   "cell_type": "code",
   "execution_count": 8,
   "id": "8585f808",
   "metadata": {},
   "outputs": [
    {
     "data": {
      "text/plain": [
       "['[', 'Emma', 'by', 'Jane', 'Austen', '1816', ']', ...]"
      ]
     },
     "execution_count": 8,
     "metadata": {},
     "output_type": "execute_result"
    }
   ],
   "source": [
    "gutenberg.words()"
   ]
  },
  {
   "cell_type": "code",
   "execution_count": 9,
   "id": "0e8ba27e",
   "metadata": {},
   "outputs": [
    {
     "data": {
      "text/plain": [
       "['austen-emma.txt',\n",
       " 'austen-persuasion.txt',\n",
       " 'austen-sense.txt',\n",
       " 'bible-kjv.txt',\n",
       " 'blake-poems.txt',\n",
       " 'bryant-stories.txt',\n",
       " 'burgess-busterbrown.txt',\n",
       " 'carroll-alice.txt',\n",
       " 'chesterton-ball.txt',\n",
       " 'chesterton-brown.txt',\n",
       " 'chesterton-thursday.txt',\n",
       " 'edgeworth-parents.txt',\n",
       " 'melville-moby_dick.txt',\n",
       " 'milton-paradise.txt',\n",
       " 'shakespeare-caesar.txt',\n",
       " 'shakespeare-hamlet.txt',\n",
       " 'shakespeare-macbeth.txt',\n",
       " 'whitman-leaves.txt']"
      ]
     },
     "execution_count": 9,
     "metadata": {},
     "output_type": "execute_result"
    }
   ],
   "source": [
    "gutenberg.fileids()"
   ]
  },
  {
   "cell_type": "code",
   "execution_count": 10,
   "id": "add08319",
   "metadata": {},
   "outputs": [
    {
     "name": "stdout",
     "output_type": "stream",
     "text": [
      "austen-emma | 글자 수 = 887071개, 단어 수 = 192427개, 문장 수 = 7752개\n",
      "austen-persuasion | 글자 수 = 466292개, 단어 수 = 98171개, 문장 수 = 3747개\n",
      "austen-sense | 글자 수 = 673022개, 단어 수 = 141576개, 문장 수 = 4999개\n",
      "bible-kjv | 글자 수 = 4332554개, 단어 수 = 1010654개, 문장 수 = 30103개\n",
      "blake-poems | 글자 수 = 38153개, 단어 수 = 8354개, 문장 수 = 438개\n",
      "bryant-stories | 글자 수 = 249439개, 단어 수 = 55563개, 문장 수 = 2863개\n",
      "burgess-busterbrown | 글자 수 = 84663개, 단어 수 = 18963개, 문장 수 = 1054개\n",
      "carroll-alice | 글자 수 = 144395개, 단어 수 = 34110개, 문장 수 = 1703개\n",
      "chesterton-ball | 글자 수 = 457450개, 단어 수 = 96996개, 문장 수 = 4779개\n",
      "chesterton-brown | 글자 수 = 406629개, 단어 수 = 86063개, 문장 수 = 3806개\n",
      "chesterton-thursday | 글자 수 = 320525개, 단어 수 = 69213개, 문장 수 = 3742개\n",
      "edgeworth-parents | 글자 수 = 935158개, 단어 수 = 210663개, 문장 수 = 10230개\n",
      "melville-moby_dick | 글자 수 = 1242990개, 단어 수 = 260819개, 문장 수 = 10059개\n",
      "milton-paradise | 글자 수 = 468220개, 단어 수 = 96825개, 문장 수 = 1851개\n",
      "shakespeare-caesar | 글자 수 = 112310개, 단어 수 = 25833개, 문장 수 = 2163개\n",
      "shakespeare-hamlet | 글자 수 = 162881개, 단어 수 = 37360개, 문장 수 = 3106개\n",
      "shakespeare-macbeth | 글자 수 = 100351개, 단어 수 = 23140개, 문장 수 = 1907개\n",
      "whitman-leaves | 글자 수 = 711215개, 단어 수 = 154883개, 문장 수 = 4250개\n"
     ]
    }
   ],
   "source": [
    "# 구텐버그의 각 파일을 돌아가면서 글자 수, 단어 수, 문장 수를 출력합니다.\n",
    "for fileid in gutenberg.fileids():\n",
    "    num_chars = len(gutenberg.raw(fileid))\n",
    "    num_words = len(gutenberg.words(fileid))\n",
    "    num_sents = len(gutenberg.sents(fileid))\n",
    "    print(f'{fileid[:-4]} | 글자 수 = {num_chars}개, 단어 수 = {num_words}개, 문장 수 = {num_sents}개')"
   ]
  },
  {
   "cell_type": "code",
   "execution_count": 11,
   "id": "fd9b4543",
   "metadata": {},
   "outputs": [
    {
     "data": {
      "text/plain": [
       "27"
      ]
     },
     "execution_count": 11,
     "metadata": {},
     "output_type": "execute_result"
    }
   ],
   "source": [
    "corpus1 = gutenberg.words(fileids='whitman-leaves.txt')\n",
    "fdist = nltk.FreqDist([w for w in corpus1])\n",
    "fdist['tree']"
   ]
  },
  {
   "cell_type": "markdown",
   "id": "7479eab0",
   "metadata": {},
   "source": [
    "### Brown\n",
    "- categories()"
   ]
  },
  {
   "cell_type": "code",
   "execution_count": 12,
   "id": "45de15bf",
   "metadata": {},
   "outputs": [
    {
     "name": "stderr",
     "output_type": "stream",
     "text": [
      "[nltk_data] Downloading package brown to\n",
      "[nltk_data]     C:\\Users\\dg200\\AppData\\Roaming\\nltk_data...\n",
      "[nltk_data]   Package brown is already up-to-date!\n"
     ]
    }
   ],
   "source": [
    "# from nltk.corpus import brown\n",
    "nltk.download('brown')\n",
    "brown_corpus = nltk.corpus.brown"
   ]
  },
  {
   "cell_type": "code",
   "execution_count": 13,
   "id": "4b2c66b5",
   "metadata": {},
   "outputs": [
    {
     "data": {
      "text/plain": [
       "['adventure',\n",
       " 'belles_lettres',\n",
       " 'editorial',\n",
       " 'fiction',\n",
       " 'government',\n",
       " 'hobbies',\n",
       " 'humor',\n",
       " 'learned',\n",
       " 'lore',\n",
       " 'mystery',\n",
       " 'news',\n",
       " 'religion',\n",
       " 'reviews',\n",
       " 'romance',\n",
       " 'science_fiction']"
      ]
     },
     "execution_count": 13,
     "metadata": {},
     "output_type": "execute_result"
    }
   ],
   "source": [
    "brown_corpus.categories()"
   ]
  },
  {
   "cell_type": "code",
   "execution_count": 14,
   "id": "8ea5429f",
   "metadata": {},
   "outputs": [
    {
     "name": "stdout",
     "output_type": "stream",
     "text": [
      "can 17\n",
      "could 33\n",
      "may 8\n",
      "might 8\n",
      "will 13\n",
      "would 56\n"
     ]
    }
   ],
   "source": [
    "humor = brown_corpus.words(categories='humor')\n",
    "# modal verbs의 쓰임\n",
    "modals = ['can','could','may','might','will','would']\n",
    "\n",
    "fdist_brown = nltk.FreqDist([w.lower() for w in humor])\n",
    "\n",
    "for verb in modals:\n",
    "    print(verb, fdist_brown[verb])"
   ]
  },
  {
   "cell_type": "markdown",
   "id": "7954a332",
   "metadata": {},
   "source": [
    "#### conditional frequency distribution(CFD)\n",
    "- 조건이 붙은 fdist"
   ]
  },
  {
   "cell_type": "code",
   "execution_count": 15,
   "id": "312acfda",
   "metadata": {},
   "outputs": [],
   "source": [
    "cfd = nltk.ConditionalFreqDist(\n",
    "    #genre에 따른 fdist\n",
    "    (genre, word)\n",
    "    for genre in brown_corpus.categories()\n",
    "    for word in brown_corpus.words(categories=genre)\n",
    ")"
   ]
  },
  {
   "cell_type": "code",
   "execution_count": 16,
   "id": "f5827e3d",
   "metadata": {},
   "outputs": [
    {
     "data": {
      "text/plain": [
       "[('.', 4057),\n",
       " (',', 3488),\n",
       " ('the', 3370),\n",
       " ('and', 1622),\n",
       " ('a', 1354),\n",
       " ('of', 1322),\n",
       " ('to', 1309),\n",
       " ('``', 998),\n",
       " (\"''\", 995),\n",
       " ('was', 914)]"
      ]
     },
     "execution_count": 16,
     "metadata": {},
     "output_type": "execute_result"
    }
   ],
   "source": [
    "cfd['adventure'].most_common(10)"
   ]
  },
  {
   "cell_type": "code",
   "execution_count": 17,
   "id": "070dae70",
   "metadata": {},
   "outputs": [
    {
     "name": "stdout",
     "output_type": "stream",
     "text": [
      "                 can could   may might  will would \n",
      "     adventure    46   151     5    58    50   191 \n",
      "belles_lettres   246   213   207   113   236   392 \n",
      "     editorial   121    56    74    39   233   180 \n"
     ]
    }
   ],
   "source": [
    "cfd.tabulate(conditions=brown_corpus.categories()[:3],samples=modals)"
   ]
  }
 ],
 "metadata": {
  "kernelspec": {
   "display_name": "Python 3 (ipykernel)",
   "language": "python",
   "name": "python3"
  },
  "language_info": {
   "codemirror_mode": {
    "name": "ipython",
    "version": 3
   },
   "file_extension": ".py",
   "mimetype": "text/x-python",
   "name": "python",
   "nbconvert_exporter": "python",
   "pygments_lexer": "ipython3",
   "version": "3.9.7"
  }
 },
 "nbformat": 4,
 "nbformat_minor": 5
}
